{
 "cells": [
  {
   "cell_type": "markdown",
   "id": "5ab5bf2a",
   "metadata": {},
   "source": [
    "# Importação dos dados e Bibliotecas"
   ]
  },
  {
   "cell_type": "code",
   "execution_count": 225,
   "id": "6c93e9ea",
   "metadata": {},
   "outputs": [],
   "source": [
    "import pandas as pd\n",
    "import numpy as np\n",
    "import matplotlib.pyplot as plt"
   ]
  },
  {
   "cell_type": "code",
   "execution_count": 226,
   "id": "f40a51a5",
   "metadata": {},
   "outputs": [
    {
     "name": "stdout",
     "output_type": "stream",
     "text": [
      "<_io.TextIOWrapper name='vendas_tran.csv' mode='r' encoding='cp1252'>\n"
     ]
    }
   ],
   "source": [
    "#Verificando encode da planilha vendas_tran.csv\n",
    "\n",
    "with open('vendas_tran.csv') as f:\n",
    "    print(f)"
   ]
  },
  {
   "cell_type": "code",
   "execution_count": 227,
   "id": "f392d9c1",
   "metadata": {},
   "outputs": [
    {
     "data": {
      "text/html": [
       "<div>\n",
       "<style scoped>\n",
       "    .dataframe tbody tr th:only-of-type {\n",
       "        vertical-align: middle;\n",
       "    }\n",
       "\n",
       "    .dataframe tbody tr th {\n",
       "        vertical-align: top;\n",
       "    }\n",
       "\n",
       "    .dataframe thead th {\n",
       "        text-align: right;\n",
       "    }\n",
       "</style>\n",
       "<table border=\"1\" class=\"dataframe\">\n",
       "  <thead>\n",
       "    <tr style=\"text-align: right;\">\n",
       "      <th></th>\n",
       "      <th>RowID</th>\n",
       "      <th>OrderID</th>\n",
       "      <th>OrderDate</th>\n",
       "      <th>ShipDate</th>\n",
       "      <th>ShipMode</th>\n",
       "      <th>CustomerID</th>\n",
       "      <th>CustomerName</th>\n",
       "      <th>Segment</th>\n",
       "      <th>Country</th>\n",
       "      <th>City</th>\n",
       "      <th>...</th>\n",
       "      <th>PostalCode</th>\n",
       "      <th>ProductID</th>\n",
       "      <th>Category</th>\n",
       "      <th>SubCategory</th>\n",
       "      <th>ProductName</th>\n",
       "      <th>Sales</th>\n",
       "      <th>Quantity</th>\n",
       "      <th>Discount</th>\n",
       "      <th>Profit</th>\n",
       "      <th>SalesPersonId</th>\n",
       "    </tr>\n",
       "  </thead>\n",
       "  <tbody>\n",
       "    <tr>\n",
       "      <th>0</th>\n",
       "      <td>9261</td>\n",
       "      <td>CA-2017-167976</td>\n",
       "      <td>11/11/2017</td>\n",
       "      <td>11/14/2017</td>\n",
       "      <td>Second Class</td>\n",
       "      <td>JL-15505</td>\n",
       "      <td>Jeremy/Lonsdale</td>\n",
       "      <td>Consumer</td>\n",
       "      <td>United States</td>\n",
       "      <td>Aberdeen</td>\n",
       "      <td>...</td>\n",
       "      <td>57401 Central</td>\n",
       "      <td>OFF-SU-10004661</td>\n",
       "      <td>Office Supplies</td>\n",
       "      <td>Supplies</td>\n",
       "      <td>Acme Titanium Bonded Scissors</td>\n",
       "      <td>25,5</td>\n",
       "      <td>3</td>\n",
       "      <td>0</td>\n",
       "      <td>6,63</td>\n",
       "      <td>3029</td>\n",
       "    </tr>\n",
       "    <tr>\n",
       "      <th>1</th>\n",
       "      <td>6990</td>\n",
       "      <td>CA-2017-165099</td>\n",
       "      <td>12/11/2017</td>\n",
       "      <td>12/13/2017</td>\n",
       "      <td>First Class</td>\n",
       "      <td>DK-13375</td>\n",
       "      <td>Dennis/Kane</td>\n",
       "      <td>Consumer</td>\n",
       "      <td>United States</td>\n",
       "      <td>Abilene</td>\n",
       "      <td>...</td>\n",
       "      <td>79605 Central</td>\n",
       "      <td>OFF-AP-10001634</td>\n",
       "      <td>Office Supplies</td>\n",
       "      <td>Appliances</td>\n",
       "      <td>Hoover Commercial Lightweight Upright Vacuum</td>\n",
       "      <td>1,39</td>\n",
       "      <td>2</td>\n",
       "      <td>0,8</td>\n",
       "      <td>-3,76</td>\n",
       "      <td>3032</td>\n",
       "    </tr>\n",
       "    <tr>\n",
       "      <th>2</th>\n",
       "      <td>201</td>\n",
       "      <td>CA-2017-105074</td>\n",
       "      <td>6/24/2017</td>\n",
       "      <td>6/29/2017</td>\n",
       "      <td>Standard Class</td>\n",
       "      <td>MB-17305</td>\n",
       "      <td>Maria/Bertelson</td>\n",
       "      <td>Consumer</td>\n",
       "      <td>United States</td>\n",
       "      <td>Akron</td>\n",
       "      <td>...</td>\n",
       "      <td>44312 East</td>\n",
       "      <td>OFF-PA-10002666</td>\n",
       "      <td>Office Supplies</td>\n",
       "      <td>Paper</td>\n",
       "      <td>Southworth 25% Cotton Linen-Finish Paper &amp; Env...</td>\n",
       "      <td>21,74</td>\n",
       "      <td>3</td>\n",
       "      <td>0,2</td>\n",
       "      <td>6,8</td>\n",
       "      <td>3029</td>\n",
       "    </tr>\n",
       "    <tr>\n",
       "      <th>3</th>\n",
       "      <td>3201</td>\n",
       "      <td>CA-2014-164224</td>\n",
       "      <td>5/18/2014</td>\n",
       "      <td>5/20/2014</td>\n",
       "      <td>Second Class</td>\n",
       "      <td>TT-21070</td>\n",
       "      <td>Ted/Trevino</td>\n",
       "      <td>Consumer</td>\n",
       "      <td>United States</td>\n",
       "      <td>Akron</td>\n",
       "      <td>...</td>\n",
       "      <td>44312 East</td>\n",
       "      <td>FUR-FU-10000308</td>\n",
       "      <td>Furniture</td>\n",
       "      <td>Furnishings</td>\n",
       "      <td>Deflect-o Glass Clear Studded Chair Mats</td>\n",
       "      <td>149,23</td>\n",
       "      <td>3</td>\n",
       "      <td>0,2</td>\n",
       "      <td>3,73</td>\n",
       "      <td>3031</td>\n",
       "    </tr>\n",
       "    <tr>\n",
       "      <th>4</th>\n",
       "      <td>3202</td>\n",
       "      <td>CA-2014-164224</td>\n",
       "      <td>5/18/2014</td>\n",
       "      <td>5/20/2014</td>\n",
       "      <td>Second Class</td>\n",
       "      <td>TT-21070</td>\n",
       "      <td>Ted/Trevino</td>\n",
       "      <td>Consumer</td>\n",
       "      <td>United States</td>\n",
       "      <td>Akron</td>\n",
       "      <td>...</td>\n",
       "      <td>44312 East</td>\n",
       "      <td>OFF-PA-10001526</td>\n",
       "      <td>Office Supplies</td>\n",
       "      <td>Paper</td>\n",
       "      <td>Xerox 1949</td>\n",
       "      <td>15,94</td>\n",
       "      <td>4</td>\n",
       "      <td>0,2</td>\n",
       "      <td>5,78</td>\n",
       "      <td>3031</td>\n",
       "    </tr>\n",
       "  </tbody>\n",
       "</table>\n",
       "<p>5 rows × 21 columns</p>\n",
       "</div>"
      ],
      "text/plain": [
       "   RowID         OrderID   OrderDate    ShipDate        ShipMode CustomerID  \\\n",
       "0   9261  CA-2017-167976  11/11/2017  11/14/2017    Second Class   JL-15505   \n",
       "1   6990  CA-2017-165099  12/11/2017  12/13/2017     First Class   DK-13375   \n",
       "2    201  CA-2017-105074   6/24/2017   6/29/2017  Standard Class   MB-17305   \n",
       "3   3201  CA-2014-164224   5/18/2014   5/20/2014    Second Class   TT-21070   \n",
       "4   3202  CA-2014-164224   5/18/2014   5/20/2014    Second Class   TT-21070   \n",
       "\n",
       "      CustomerName   Segment        Country      City  ...     PostalCode  \\\n",
       "0  Jeremy/Lonsdale  Consumer  United States  Aberdeen  ...  57401 Central   \n",
       "1      Dennis/Kane  Consumer  United States   Abilene  ...  79605 Central   \n",
       "2  Maria/Bertelson  Consumer  United States     Akron  ...     44312 East   \n",
       "3      Ted/Trevino  Consumer  United States     Akron  ...     44312 East   \n",
       "4      Ted/Trevino  Consumer  United States     Akron  ...     44312 East   \n",
       "\n",
       "         ProductID         Category  SubCategory  \\\n",
       "0  OFF-SU-10004661  Office Supplies     Supplies   \n",
       "1  OFF-AP-10001634  Office Supplies   Appliances   \n",
       "2  OFF-PA-10002666  Office Supplies        Paper   \n",
       "3  FUR-FU-10000308        Furniture  Furnishings   \n",
       "4  OFF-PA-10001526  Office Supplies        Paper   \n",
       "\n",
       "                                         ProductName   Sales Quantity  \\\n",
       "0                      Acme Titanium Bonded Scissors    25,5        3   \n",
       "1       Hoover Commercial Lightweight Upright Vacuum    1,39        2   \n",
       "2  Southworth 25% Cotton Linen-Finish Paper & Env...   21,74        3   \n",
       "3           Deflect-o Glass Clear Studded Chair Mats  149,23        3   \n",
       "4                                         Xerox 1949   15,94        4   \n",
       "\n",
       "   Discount Profit SalesPersonId  \n",
       "0         0   6,63          3029  \n",
       "1       0,8  -3,76          3032  \n",
       "2       0,2    6,8          3029  \n",
       "3       0,2   3,73          3031  \n",
       "4       0,2   5,78          3031  \n",
       "\n",
       "[5 rows x 21 columns]"
      ]
     },
     "execution_count": 227,
     "metadata": {},
     "output_type": "execute_result"
    }
   ],
   "source": [
    "vendas_tran = pd.read_csv('vendas_tran.csv', sep=';',encoding='cp1252')\n",
    "vendas_tran.head()"
   ]
  },
  {
   "cell_type": "code",
   "execution_count": 228,
   "id": "fcaa9890",
   "metadata": {},
   "outputs": [
    {
     "data": {
      "text/html": [
       "<div>\n",
       "<style scoped>\n",
       "    .dataframe tbody tr th:only-of-type {\n",
       "        vertical-align: middle;\n",
       "    }\n",
       "\n",
       "    .dataframe tbody tr th {\n",
       "        vertical-align: top;\n",
       "    }\n",
       "\n",
       "    .dataframe thead th {\n",
       "        text-align: right;\n",
       "    }\n",
       "</style>\n",
       "<table border=\"1\" class=\"dataframe\">\n",
       "  <thead>\n",
       "    <tr style=\"text-align: right;\">\n",
       "      <th></th>\n",
       "      <th>Salespersonid</th>\n",
       "      <th>SalesPersonName</th>\n",
       "      <th>SalesPersonLastName</th>\n",
       "      <th>Region</th>\n",
       "    </tr>\n",
       "  </thead>\n",
       "  <tbody>\n",
       "    <tr>\n",
       "      <th>0</th>\n",
       "      <td>3029</td>\n",
       "      <td>Anna</td>\n",
       "      <td>Andreadi</td>\n",
       "      <td>West</td>\n",
       "    </tr>\n",
       "    <tr>\n",
       "      <th>1</th>\n",
       "      <td>3030</td>\n",
       "      <td>Chuck</td>\n",
       "      <td>Magee</td>\n",
       "      <td>East</td>\n",
       "    </tr>\n",
       "    <tr>\n",
       "      <th>2</th>\n",
       "      <td>3031</td>\n",
       "      <td>Kelly</td>\n",
       "      <td>Williams</td>\n",
       "      <td>Central</td>\n",
       "    </tr>\n",
       "    <tr>\n",
       "      <th>3</th>\n",
       "      <td>3032</td>\n",
       "      <td>Cassandra</td>\n",
       "      <td>Brandow</td>\n",
       "      <td>South</td>\n",
       "    </tr>\n",
       "  </tbody>\n",
       "</table>\n",
       "</div>"
      ],
      "text/plain": [
       "   Salespersonid SalesPersonName SalesPersonLastName   Region\n",
       "0           3029            Anna            Andreadi     West\n",
       "1           3030           Chuck               Magee     East\n",
       "2           3031           Kelly            Williams  Central\n",
       "3           3032       Cassandra             Brandow    South"
      ]
     },
     "execution_count": 228,
     "metadata": {},
     "output_type": "execute_result"
    }
   ],
   "source": [
    "vendedor = pd.read_csv('vendedor.csv', sep=';')\n",
    "vendedor.head()"
   ]
  },
  {
   "cell_type": "markdown",
   "id": "62729cb3",
   "metadata": {},
   "source": [
    "# Tratamentos de colunas e Join"
   ]
  },
  {
   "cell_type": "code",
   "execution_count": 229,
   "id": "3e711891",
   "metadata": {},
   "outputs": [
    {
     "data": {
      "text/html": [
       "<div>\n",
       "<style scoped>\n",
       "    .dataframe tbody tr th:only-of-type {\n",
       "        vertical-align: middle;\n",
       "    }\n",
       "\n",
       "    .dataframe tbody tr th {\n",
       "        vertical-align: top;\n",
       "    }\n",
       "\n",
       "    .dataframe thead th {\n",
       "        text-align: right;\n",
       "    }\n",
       "</style>\n",
       "<table border=\"1\" class=\"dataframe\">\n",
       "  <thead>\n",
       "    <tr style=\"text-align: right;\">\n",
       "      <th></th>\n",
       "      <th>SalesPersonId</th>\n",
       "      <th>SalesPersonName</th>\n",
       "      <th>SalesPersonLastName</th>\n",
       "      <th>Region</th>\n",
       "    </tr>\n",
       "  </thead>\n",
       "  <tbody>\n",
       "    <tr>\n",
       "      <th>0</th>\n",
       "      <td>3029</td>\n",
       "      <td>Anna</td>\n",
       "      <td>Andreadi</td>\n",
       "      <td>West</td>\n",
       "    </tr>\n",
       "    <tr>\n",
       "      <th>1</th>\n",
       "      <td>3030</td>\n",
       "      <td>Chuck</td>\n",
       "      <td>Magee</td>\n",
       "      <td>East</td>\n",
       "    </tr>\n",
       "    <tr>\n",
       "      <th>2</th>\n",
       "      <td>3031</td>\n",
       "      <td>Kelly</td>\n",
       "      <td>Williams</td>\n",
       "      <td>Central</td>\n",
       "    </tr>\n",
       "    <tr>\n",
       "      <th>3</th>\n",
       "      <td>3032</td>\n",
       "      <td>Cassandra</td>\n",
       "      <td>Brandow</td>\n",
       "      <td>South</td>\n",
       "    </tr>\n",
       "  </tbody>\n",
       "</table>\n",
       "</div>"
      ],
      "text/plain": [
       "   SalesPersonId SalesPersonName SalesPersonLastName   Region\n",
       "0           3029            Anna            Andreadi     West\n",
       "1           3030           Chuck               Magee     East\n",
       "2           3031           Kelly            Williams  Central\n",
       "3           3032       Cassandra             Brandow    South"
      ]
     },
     "execution_count": 229,
     "metadata": {},
     "output_type": "execute_result"
    }
   ],
   "source": [
    "vendedor = vendedor.rename(columns={'Salespersonid': 'SalesPersonId'})\n",
    "vendedor"
   ]
  },
  {
   "cell_type": "code",
   "execution_count": 230,
   "id": "4474e2b0",
   "metadata": {},
   "outputs": [
    {
     "data": {
      "text/html": [
       "<div>\n",
       "<style scoped>\n",
       "    .dataframe tbody tr th:only-of-type {\n",
       "        vertical-align: middle;\n",
       "    }\n",
       "\n",
       "    .dataframe tbody tr th {\n",
       "        vertical-align: top;\n",
       "    }\n",
       "\n",
       "    .dataframe thead th {\n",
       "        text-align: right;\n",
       "    }\n",
       "</style>\n",
       "<table border=\"1\" class=\"dataframe\">\n",
       "  <thead>\n",
       "    <tr style=\"text-align: right;\">\n",
       "      <th></th>\n",
       "      <th>RowID</th>\n",
       "      <th>OrderID</th>\n",
       "      <th>OrderDate</th>\n",
       "      <th>ShipDate</th>\n",
       "      <th>ShipMode</th>\n",
       "      <th>CustomerID</th>\n",
       "      <th>CustomerName</th>\n",
       "      <th>Segment</th>\n",
       "      <th>Country</th>\n",
       "      <th>City</th>\n",
       "      <th>...</th>\n",
       "      <th>SubCategory</th>\n",
       "      <th>ProductName</th>\n",
       "      <th>Sales</th>\n",
       "      <th>Quantity</th>\n",
       "      <th>Discount</th>\n",
       "      <th>Profit</th>\n",
       "      <th>SalesPersonId</th>\n",
       "      <th>SalesPersonName</th>\n",
       "      <th>SalesPersonLastName</th>\n",
       "      <th>Region</th>\n",
       "    </tr>\n",
       "  </thead>\n",
       "  <tbody>\n",
       "    <tr>\n",
       "      <th>0</th>\n",
       "      <td>9261</td>\n",
       "      <td>CA-2017-167976</td>\n",
       "      <td>11/11/2017</td>\n",
       "      <td>11/14/2017</td>\n",
       "      <td>Second Class</td>\n",
       "      <td>JL-15505</td>\n",
       "      <td>Jeremy/Lonsdale</td>\n",
       "      <td>Consumer</td>\n",
       "      <td>United States</td>\n",
       "      <td>Aberdeen</td>\n",
       "      <td>...</td>\n",
       "      <td>Supplies</td>\n",
       "      <td>Acme Titanium Bonded Scissors</td>\n",
       "      <td>25,5</td>\n",
       "      <td>3</td>\n",
       "      <td>0</td>\n",
       "      <td>6,63</td>\n",
       "      <td>3029</td>\n",
       "      <td>Anna</td>\n",
       "      <td>Andreadi</td>\n",
       "      <td>West</td>\n",
       "    </tr>\n",
       "    <tr>\n",
       "      <th>1</th>\n",
       "      <td>201</td>\n",
       "      <td>CA-2017-105074</td>\n",
       "      <td>6/24/2017</td>\n",
       "      <td>6/29/2017</td>\n",
       "      <td>Standard Class</td>\n",
       "      <td>MB-17305</td>\n",
       "      <td>Maria/Bertelson</td>\n",
       "      <td>Consumer</td>\n",
       "      <td>United States</td>\n",
       "      <td>Akron</td>\n",
       "      <td>...</td>\n",
       "      <td>Paper</td>\n",
       "      <td>Southworth 25% Cotton Linen-Finish Paper &amp; Env...</td>\n",
       "      <td>21,74</td>\n",
       "      <td>3</td>\n",
       "      <td>0,2</td>\n",
       "      <td>6,8</td>\n",
       "      <td>3029</td>\n",
       "      <td>Anna</td>\n",
       "      <td>Andreadi</td>\n",
       "      <td>West</td>\n",
       "    </tr>\n",
       "    <tr>\n",
       "      <th>2</th>\n",
       "      <td>9922</td>\n",
       "      <td>CA-2014-111360</td>\n",
       "      <td>11/24/2014</td>\n",
       "      <td>11/30/2014</td>\n",
       "      <td>Standard Class</td>\n",
       "      <td>AT-10435</td>\n",
       "      <td>Alyssa/Tate</td>\n",
       "      <td>Home Office</td>\n",
       "      <td>United States</td>\n",
       "      <td>Akron</td>\n",
       "      <td>...</td>\n",
       "      <td>Binders</td>\n",
       "      <td>Acco Expandable Hanging Binders</td>\n",
       "      <td>5,74</td>\n",
       "      <td>3</td>\n",
       "      <td>0,7</td>\n",
       "      <td>-4,59</td>\n",
       "      <td>3029</td>\n",
       "      <td>Anna</td>\n",
       "      <td>Andreadi</td>\n",
       "      <td>West</td>\n",
       "    </tr>\n",
       "    <tr>\n",
       "      <th>3</th>\n",
       "      <td>9275</td>\n",
       "      <td>US-2014-134054</td>\n",
       "      <td>10/10/2014</td>\n",
       "      <td>10/10/2014</td>\n",
       "      <td>Same Day</td>\n",
       "      <td>FC-14335</td>\n",
       "      <td>Fred/Chung</td>\n",
       "      <td>Corporate</td>\n",
       "      <td>United States</td>\n",
       "      <td>Albuquerque</td>\n",
       "      <td>...</td>\n",
       "      <td>Art</td>\n",
       "      <td>Dixon Ticonderoga Core-Lock Colored Pencils, 4...</td>\n",
       "      <td>255,85</td>\n",
       "      <td>7</td>\n",
       "      <td>0</td>\n",
       "      <td>112,57</td>\n",
       "      <td>3029</td>\n",
       "      <td>Anna</td>\n",
       "      <td>Andreadi</td>\n",
       "      <td>West</td>\n",
       "    </tr>\n",
       "    <tr>\n",
       "      <th>4</th>\n",
       "      <td>9188</td>\n",
       "      <td>US-2015-130512</td>\n",
       "      <td>8/21/2015</td>\n",
       "      <td>8/25/2015</td>\n",
       "      <td>Standard Class</td>\n",
       "      <td>SM-20320</td>\n",
       "      <td>Sean/Miller</td>\n",
       "      <td>Home Office</td>\n",
       "      <td>United States</td>\n",
       "      <td>Allentown</td>\n",
       "      <td>...</td>\n",
       "      <td>Supplies</td>\n",
       "      <td>Staple remover</td>\n",
       "      <td>3,49</td>\n",
       "      <td>2</td>\n",
       "      <td>0,2</td>\n",
       "      <td>-0,7</td>\n",
       "      <td>3029</td>\n",
       "      <td>Anna</td>\n",
       "      <td>Andreadi</td>\n",
       "      <td>West</td>\n",
       "    </tr>\n",
       "    <tr>\n",
       "      <th>...</th>\n",
       "      <td>...</td>\n",
       "      <td>...</td>\n",
       "      <td>...</td>\n",
       "      <td>...</td>\n",
       "      <td>...</td>\n",
       "      <td>...</td>\n",
       "      <td>...</td>\n",
       "      <td>...</td>\n",
       "      <td>...</td>\n",
       "      <td>...</td>\n",
       "      <td>...</td>\n",
       "      <td>...</td>\n",
       "      <td>...</td>\n",
       "      <td>...</td>\n",
       "      <td>...</td>\n",
       "      <td>...</td>\n",
       "      <td>...</td>\n",
       "      <td>...</td>\n",
       "      <td>...</td>\n",
       "      <td>...</td>\n",
       "      <td>...</td>\n",
       "    </tr>\n",
       "    <tr>\n",
       "      <th>9989</th>\n",
       "      <td>1085</td>\n",
       "      <td>US-2016-143819</td>\n",
       "      <td>3/1/2016</td>\n",
       "      <td>3/5/2016</td>\n",
       "      <td>Standard Class</td>\n",
       "      <td>KD-16270</td>\n",
       "      <td>Karen/Daniels</td>\n",
       "      <td>Consumer</td>\n",
       "      <td>United States</td>\n",
       "      <td>Yonkers</td>\n",
       "      <td>...</td>\n",
       "      <td>Storage</td>\n",
       "      <td>Adjustable Depth Letter/Legal Cart</td>\n",
       "      <td>362,92</td>\n",
       "      <td>2</td>\n",
       "      <td>0</td>\n",
       "      <td>105,25</td>\n",
       "      <td>3030</td>\n",
       "      <td>Chuck</td>\n",
       "      <td>Magee</td>\n",
       "      <td>East</td>\n",
       "    </tr>\n",
       "    <tr>\n",
       "      <th>9990</th>\n",
       "      <td>1086</td>\n",
       "      <td>US-2016-143819</td>\n",
       "      <td>3/1/2016</td>\n",
       "      <td>3/5/2016</td>\n",
       "      <td>Standard Class</td>\n",
       "      <td>KD-16270</td>\n",
       "      <td>Karen/Daniels</td>\n",
       "      <td>Consumer</td>\n",
       "      <td>United States</td>\n",
       "      <td>Yonkers</td>\n",
       "      <td>...</td>\n",
       "      <td>Machines</td>\n",
       "      <td>Ativa V4110MDD Micro-Cut Shredder</td>\n",
       "      <td>4899,93</td>\n",
       "      <td>7</td>\n",
       "      <td>0</td>\n",
       "      <td>2400,97</td>\n",
       "      <td>3030</td>\n",
       "      <td>Chuck</td>\n",
       "      <td>Magee</td>\n",
       "      <td>East</td>\n",
       "    </tr>\n",
       "    <tr>\n",
       "      <th>9991</th>\n",
       "      <td>2146</td>\n",
       "      <td>US-2016-152051</td>\n",
       "      <td>6/25/2016</td>\n",
       "      <td>6/29/2016</td>\n",
       "      <td>Standard Class</td>\n",
       "      <td>TS-21160</td>\n",
       "      <td>Theresa/Swint</td>\n",
       "      <td>Corporate</td>\n",
       "      <td>United States</td>\n",
       "      <td>York</td>\n",
       "      <td>...</td>\n",
       "      <td>Chairs</td>\n",
       "      <td>Global Leather Highback Executive Chair with P...</td>\n",
       "      <td>422,06</td>\n",
       "      <td>3</td>\n",
       "      <td>0,3</td>\n",
       "      <td>-18,09</td>\n",
       "      <td>3030</td>\n",
       "      <td>Chuck</td>\n",
       "      <td>Magee</td>\n",
       "      <td>East</td>\n",
       "    </tr>\n",
       "    <tr>\n",
       "      <th>9992</th>\n",
       "      <td>2147</td>\n",
       "      <td>US-2016-152051</td>\n",
       "      <td>6/25/2016</td>\n",
       "      <td>6/29/2016</td>\n",
       "      <td>Standard Class</td>\n",
       "      <td>TS-21160</td>\n",
       "      <td>Theresa/Swint</td>\n",
       "      <td>Corporate</td>\n",
       "      <td>United States</td>\n",
       "      <td>York</td>\n",
       "      <td>...</td>\n",
       "      <td>Binders</td>\n",
       "      <td>GBC Wire Binding Strips</td>\n",
       "      <td>38,09</td>\n",
       "      <td>4</td>\n",
       "      <td>0,7</td>\n",
       "      <td>-27,93</td>\n",
       "      <td>3030</td>\n",
       "      <td>Chuck</td>\n",
       "      <td>Magee</td>\n",
       "      <td>East</td>\n",
       "    </tr>\n",
       "    <tr>\n",
       "      <th>9993</th>\n",
       "      <td>2148</td>\n",
       "      <td>US-2016-152051</td>\n",
       "      <td>6/25/2016</td>\n",
       "      <td>6/29/2016</td>\n",
       "      <td>Standard Class</td>\n",
       "      <td>TS-21160</td>\n",
       "      <td>Theresa/Swint</td>\n",
       "      <td>Corporate</td>\n",
       "      <td>United States</td>\n",
       "      <td>York</td>\n",
       "      <td>...</td>\n",
       "      <td>Storage</td>\n",
       "      <td>Gould Plastics 9-Pocket Panel Bin, 18-3/8w x 5...</td>\n",
       "      <td>254,35</td>\n",
       "      <td>6</td>\n",
       "      <td>0,2</td>\n",
       "      <td>-50,87</td>\n",
       "      <td>3030</td>\n",
       "      <td>Chuck</td>\n",
       "      <td>Magee</td>\n",
       "      <td>East</td>\n",
       "    </tr>\n",
       "  </tbody>\n",
       "</table>\n",
       "<p>9994 rows × 24 columns</p>\n",
       "</div>"
      ],
      "text/plain": [
       "      RowID         OrderID   OrderDate    ShipDate        ShipMode  \\\n",
       "0      9261  CA-2017-167976  11/11/2017  11/14/2017    Second Class   \n",
       "1       201  CA-2017-105074   6/24/2017   6/29/2017  Standard Class   \n",
       "2      9922  CA-2014-111360  11/24/2014  11/30/2014  Standard Class   \n",
       "3      9275  US-2014-134054  10/10/2014  10/10/2014        Same Day   \n",
       "4      9188  US-2015-130512   8/21/2015   8/25/2015  Standard Class   \n",
       "...     ...             ...         ...         ...             ...   \n",
       "9989   1085  US-2016-143819    3/1/2016    3/5/2016  Standard Class   \n",
       "9990   1086  US-2016-143819    3/1/2016    3/5/2016  Standard Class   \n",
       "9991   2146  US-2016-152051   6/25/2016   6/29/2016  Standard Class   \n",
       "9992   2147  US-2016-152051   6/25/2016   6/29/2016  Standard Class   \n",
       "9993   2148  US-2016-152051   6/25/2016   6/29/2016  Standard Class   \n",
       "\n",
       "     CustomerID     CustomerName      Segment        Country         City  \\\n",
       "0      JL-15505  Jeremy/Lonsdale     Consumer  United States     Aberdeen   \n",
       "1      MB-17305  Maria/Bertelson     Consumer  United States        Akron   \n",
       "2      AT-10435      Alyssa/Tate  Home Office  United States        Akron   \n",
       "3      FC-14335       Fred/Chung    Corporate  United States  Albuquerque   \n",
       "4      SM-20320      Sean/Miller  Home Office  United States    Allentown   \n",
       "...         ...              ...          ...            ...          ...   \n",
       "9989   KD-16270    Karen/Daniels     Consumer  United States      Yonkers   \n",
       "9990   KD-16270    Karen/Daniels     Consumer  United States      Yonkers   \n",
       "9991   TS-21160    Theresa/Swint    Corporate  United States         York   \n",
       "9992   TS-21160    Theresa/Swint    Corporate  United States         York   \n",
       "9993   TS-21160    Theresa/Swint    Corporate  United States         York   \n",
       "\n",
       "      ... SubCategory                                        ProductName  \\\n",
       "0     ...    Supplies                      Acme Titanium Bonded Scissors   \n",
       "1     ...       Paper  Southworth 25% Cotton Linen-Finish Paper & Env...   \n",
       "2     ...     Binders                    Acco Expandable Hanging Binders   \n",
       "3     ...         Art  Dixon Ticonderoga Core-Lock Colored Pencils, 4...   \n",
       "4     ...    Supplies                                     Staple remover   \n",
       "...   ...         ...                                                ...   \n",
       "9989  ...     Storage                 Adjustable Depth Letter/Legal Cart   \n",
       "9990  ...    Machines                  Ativa V4110MDD Micro-Cut Shredder   \n",
       "9991  ...      Chairs  Global Leather Highback Executive Chair with P...   \n",
       "9992  ...     Binders                            GBC Wire Binding Strips   \n",
       "9993  ...     Storage  Gould Plastics 9-Pocket Panel Bin, 18-3/8w x 5...   \n",
       "\n",
       "        Sales Quantity Discount   Profit SalesPersonId  SalesPersonName  \\\n",
       "0        25,5        3        0     6,63          3029             Anna   \n",
       "1       21,74        3      0,2      6,8          3029             Anna   \n",
       "2        5,74        3      0,7    -4,59          3029             Anna   \n",
       "3      255,85        7        0   112,57          3029             Anna   \n",
       "4        3,49        2      0,2     -0,7          3029             Anna   \n",
       "...       ...      ...      ...      ...           ...              ...   \n",
       "9989   362,92        2        0   105,25          3030            Chuck   \n",
       "9990  4899,93        7        0  2400,97          3030            Chuck   \n",
       "9991   422,06        3      0,3   -18,09          3030            Chuck   \n",
       "9992    38,09        4      0,7   -27,93          3030            Chuck   \n",
       "9993   254,35        6      0,2   -50,87          3030            Chuck   \n",
       "\n",
       "     SalesPersonLastName Region  \n",
       "0               Andreadi   West  \n",
       "1               Andreadi   West  \n",
       "2               Andreadi   West  \n",
       "3               Andreadi   West  \n",
       "4               Andreadi   West  \n",
       "...                  ...    ...  \n",
       "9989               Magee   East  \n",
       "9990               Magee   East  \n",
       "9991               Magee   East  \n",
       "9992               Magee   East  \n",
       "9993               Magee   East  \n",
       "\n",
       "[9994 rows x 24 columns]"
      ]
     },
     "execution_count": 230,
     "metadata": {},
     "output_type": "execute_result"
    }
   ],
   "source": [
    "vendas = pd.merge(vendas_tran, vendedor, on='SalesPersonId', how='inner')\n",
    "vendas"
   ]
  },
  {
   "cell_type": "code",
   "execution_count": 231,
   "id": "e8a16c7f",
   "metadata": {},
   "outputs": [
    {
     "data": {
      "text/html": [
       "<div>\n",
       "<style scoped>\n",
       "    .dataframe tbody tr th:only-of-type {\n",
       "        vertical-align: middle;\n",
       "    }\n",
       "\n",
       "    .dataframe tbody tr th {\n",
       "        vertical-align: top;\n",
       "    }\n",
       "\n",
       "    .dataframe thead th {\n",
       "        text-align: right;\n",
       "    }\n",
       "</style>\n",
       "<table border=\"1\" class=\"dataframe\">\n",
       "  <thead>\n",
       "    <tr style=\"text-align: right;\">\n",
       "      <th></th>\n",
       "      <th>RowID</th>\n",
       "      <th>Quantity</th>\n",
       "      <th>SalesPersonId</th>\n",
       "    </tr>\n",
       "  </thead>\n",
       "  <tbody>\n",
       "    <tr>\n",
       "      <th>count</th>\n",
       "      <td>9994.000000</td>\n",
       "      <td>9994.000000</td>\n",
       "      <td>9994.000000</td>\n",
       "    </tr>\n",
       "    <tr>\n",
       "      <th>mean</th>\n",
       "      <td>4997.500000</td>\n",
       "      <td>3.789574</td>\n",
       "      <td>3030.802982</td>\n",
       "    </tr>\n",
       "    <tr>\n",
       "      <th>std</th>\n",
       "      <td>2885.163629</td>\n",
       "      <td>2.225110</td>\n",
       "      <td>0.973741</td>\n",
       "    </tr>\n",
       "    <tr>\n",
       "      <th>min</th>\n",
       "      <td>1.000000</td>\n",
       "      <td>1.000000</td>\n",
       "      <td>3029.000000</td>\n",
       "    </tr>\n",
       "    <tr>\n",
       "      <th>25%</th>\n",
       "      <td>2499.250000</td>\n",
       "      <td>2.000000</td>\n",
       "      <td>3030.000000</td>\n",
       "    </tr>\n",
       "    <tr>\n",
       "      <th>50%</th>\n",
       "      <td>4997.500000</td>\n",
       "      <td>3.000000</td>\n",
       "      <td>3031.000000</td>\n",
       "    </tr>\n",
       "    <tr>\n",
       "      <th>75%</th>\n",
       "      <td>7495.750000</td>\n",
       "      <td>5.000000</td>\n",
       "      <td>3032.000000</td>\n",
       "    </tr>\n",
       "    <tr>\n",
       "      <th>max</th>\n",
       "      <td>9994.000000</td>\n",
       "      <td>14.000000</td>\n",
       "      <td>3032.000000</td>\n",
       "    </tr>\n",
       "  </tbody>\n",
       "</table>\n",
       "</div>"
      ],
      "text/plain": [
       "             RowID     Quantity  SalesPersonId\n",
       "count  9994.000000  9994.000000    9994.000000\n",
       "mean   4997.500000     3.789574    3030.802982\n",
       "std    2885.163629     2.225110       0.973741\n",
       "min       1.000000     1.000000    3029.000000\n",
       "25%    2499.250000     2.000000    3030.000000\n",
       "50%    4997.500000     3.000000    3031.000000\n",
       "75%    7495.750000     5.000000    3032.000000\n",
       "max    9994.000000    14.000000    3032.000000"
      ]
     },
     "execution_count": 231,
     "metadata": {},
     "output_type": "execute_result"
    }
   ],
   "source": [
    "vendas.describe()"
   ]
  },
  {
   "cell_type": "code",
   "execution_count": 232,
   "id": "d53d3fee",
   "metadata": {},
   "outputs": [],
   "source": [
    "vendas.to_csv('vendas.csv', header=True, sep=';')"
   ]
  },
  {
   "cell_type": "code",
   "execution_count": 233,
   "id": "091983c0",
   "metadata": {},
   "outputs": [
    {
     "name": "stdout",
     "output_type": "stream",
     "text": [
      "<class 'pandas.core.frame.DataFrame'>\n",
      "Int64Index: 9994 entries, 0 to 9993\n",
      "Data columns (total 24 columns):\n",
      " #   Column               Non-Null Count  Dtype \n",
      "---  ------               --------------  ----- \n",
      " 0   RowID                9994 non-null   int64 \n",
      " 1   OrderID              9994 non-null   object\n",
      " 2   OrderDate            9994 non-null   object\n",
      " 3   ShipDate             9994 non-null   object\n",
      " 4   ShipMode             9994 non-null   object\n",
      " 5   CustomerID           9994 non-null   object\n",
      " 6   CustomerName         9994 non-null   object\n",
      " 7   Segment              9994 non-null   object\n",
      " 8   Country              9994 non-null   object\n",
      " 9   City                 9994 non-null   object\n",
      " 10  State                9994 non-null   object\n",
      " 11  PostalCode           9994 non-null   object\n",
      " 12  ProductID            9994 non-null   object\n",
      " 13  Category             9994 non-null   object\n",
      " 14  SubCategory          9994 non-null   object\n",
      " 15  ProductName          9994 non-null   object\n",
      " 16  Sales                9994 non-null   object\n",
      " 17  Quantity             9994 non-null   int64 \n",
      " 18  Discount             9994 non-null   object\n",
      " 19  Profit               9994 non-null   object\n",
      " 20  SalesPersonId        9994 non-null   int64 \n",
      " 21  SalesPersonName      9994 non-null   object\n",
      " 22  SalesPersonLastName  9994 non-null   object\n",
      " 23  Region               9994 non-null   object\n",
      "dtypes: int64(3), object(21)\n",
      "memory usage: 1.9+ MB\n"
     ]
    }
   ],
   "source": [
    "vendas.info()\n"
   ]
  },
  {
   "cell_type": "markdown",
   "id": "2748cb8a",
   "metadata": {},
   "source": [
    "# Inicio da Analise"
   ]
  },
  {
   "cell_type": "markdown",
   "id": "11b0c295",
   "metadata": {},
   "source": [
    "## Quantidade de vendas por categoria"
   ]
  },
  {
   "cell_type": "code",
   "execution_count": 234,
   "id": "30e0b5dd",
   "metadata": {},
   "outputs": [
    {
     "data": {
      "text/plain": [
       "Office Supplies    6026\n",
       "Furniture          2121\n",
       "Technology         1847\n",
       "Name: Category, dtype: int64"
      ]
     },
     "execution_count": 234,
     "metadata": {},
     "output_type": "execute_result"
    }
   ],
   "source": [
    "vendas[u'Category'].value_counts()"
   ]
  },
  {
   "cell_type": "code",
   "execution_count": 235,
   "id": "b28d48fe",
   "metadata": {},
   "outputs": [
    {
     "data": {
      "text/plain": [
       "<AxesSubplot:ylabel='Category'>"
      ]
     },
     "execution_count": 235,
     "metadata": {},
     "output_type": "execute_result"
    },
    {
     "data": {
      "image/png": "[encoded data removed]",
      "text/plain": [
       "<Figure size 432x288 with 1 Axes>"
      ]
     },
     "metadata": {},
     "output_type": "display_data"
    }
   ],
   "source": [
    "import seaborn as sns\n",
    "sns.set(style='darkgrid')\n",
    "Categoria = vendas[u'Category'].unique()\n",
    "cont = vendas[u'Category'].value_counts()\n",
    "sns.barplot(x=Categoria,y=cont)"
   ]
  },
  {
   "cell_type": "markdown",
   "id": "5f134b15",
   "metadata": {},
   "source": [
    "## Top Vendas por Estado e Região"
   ]
  },
  {
   "cell_type": "code",
   "execution_count": 236,
   "id": "13f9c9fe",
   "metadata": {},
   "outputs": [],
   "source": [
    "pd.set_option('display.max_rows', 30)"
   ]
  },
  {
   "cell_type": "code",
   "execution_count": 257,
   "id": "420963b0",
   "metadata": {
    "scrolled": false
   },
   "outputs": [
    {
     "data": {
      "text/plain": [
       "State                 Region \n",
       "California            Central    784\n",
       "                      South      507\n",
       "                      East       442\n",
       "New York              Central    393\n",
       "Texas                 Central    352\n",
       "                                ... \n",
       "Idaho                 West         1\n",
       "West Virginia         West         1\n",
       "District of Columbia  Central      1\n",
       "South Carolina        West         1\n",
       "Wyoming               Central      1\n",
       "Name: Region, Length: 183, dtype: int64"
      ]
     },
     "execution_count": 257,
     "metadata": {},
     "output_type": "execute_result"
    }
   ],
   "source": [
    "vendas.groupby('State')['Region'].value_counts().sort_values(ascending=False)"
   ]
  },
  {
   "cell_type": "markdown",
   "id": "8cc2777b",
   "metadata": {},
   "source": [
    "## Vendas por categoria e sub-categoria"
   ]
  },
  {
   "cell_type": "code",
   "execution_count": 238,
   "id": "191594c1",
   "metadata": {
    "scrolled": true
   },
   "outputs": [
    {
     "data": {
      "text/plain": [
       "Category         SubCategory\n",
       "Furniture        Furnishings     957\n",
       "                 Chairs          617\n",
       "                 Tables          319\n",
       "                 Bookcases       228\n",
       "Office Supplies  Binders        1523\n",
       "                 Paper          1370\n",
       "                 Storage         846\n",
       "                 Art             796\n",
       "                 Appliances      466\n",
       "                 Labels          364\n",
       "                 Envelopes       254\n",
       "                 Fasteners       217\n",
       "                 Supplies        190\n",
       "Technology       Phones          889\n",
       "                 Accessories     775\n",
       "                 Machines        115\n",
       "                 Copiers          68\n",
       "Name: SubCategory, dtype: int64"
      ]
     },
     "execution_count": 238,
     "metadata": {},
     "output_type": "execute_result"
    }
   ],
   "source": [
    "vendas.groupby('Category')['SubCategory'].value_counts()"
   ]
  },
  {
   "cell_type": "code",
   "execution_count": 239,
   "id": "deff913e",
   "metadata": {
    "scrolled": true
   },
   "outputs": [
    {
     "data": {
      "text/plain": [
       "RowID                   int64\n",
       "OrderID                object\n",
       "OrderDate              object\n",
       "ShipDate               object\n",
       "ShipMode               object\n",
       "CustomerID             object\n",
       "CustomerName           object\n",
       "Segment                object\n",
       "Country                object\n",
       "City                   object\n",
       "State                  object\n",
       "PostalCode             object\n",
       "ProductID              object\n",
       "Category               object\n",
       "SubCategory            object\n",
       "ProductName            object\n",
       "Sales                  object\n",
       "Quantity                int64\n",
       "Discount               object\n",
       "Profit                 object\n",
       "SalesPersonId           int64\n",
       "SalesPersonName        object\n",
       "SalesPersonLastName    object\n",
       "Region                 object\n",
       "dtype: object"
      ]
     },
     "execution_count": 239,
     "metadata": {},
     "output_type": "execute_result"
    }
   ],
   "source": [
    "vendas.dtypes"
   ]
  },
  {
   "cell_type": "code",
   "execution_count": 240,
   "id": "3b5dbe50",
   "metadata": {},
   "outputs": [],
   "source": [
    "vendas2 = pd.Series(vendas[\"Sales\"]).replace(regex=',',value='.')\n",
    "\n",
    "vendas['Sales'] = pd.to_numeric(vendas['Sales'].replace(regex=',',value='.'))"
   ]
  },
  {
   "cell_type": "code",
   "execution_count": 241,
   "id": "73a685cf",
   "metadata": {},
   "outputs": [
    {
     "data": {
      "text/plain": [
       "RowID                    int64\n",
       "OrderID                 object\n",
       "OrderDate               object\n",
       "ShipDate                object\n",
       "ShipMode                object\n",
       "CustomerID              object\n",
       "CustomerName            object\n",
       "Segment                 object\n",
       "Country                 object\n",
       "City                    object\n",
       "State                   object\n",
       "PostalCode              object\n",
       "ProductID               object\n",
       "Category                object\n",
       "SubCategory             object\n",
       "ProductName             object\n",
       "Sales                  float64\n",
       "Quantity                 int64\n",
       "Discount                object\n",
       "Profit                  object\n",
       "SalesPersonId            int64\n",
       "SalesPersonName         object\n",
       "SalesPersonLastName     object\n",
       "Region                  object\n",
       "dtype: object"
      ]
     },
     "execution_count": 241,
     "metadata": {},
     "output_type": "execute_result"
    }
   ],
   "source": [
    "vendas.dtypes"
   ]
  },
  {
   "cell_type": "markdown",
   "id": "d01f0591",
   "metadata": {},
   "source": [
    "## Valor de vendas por categoria"
   ]
  },
  {
   "cell_type": "code",
   "execution_count": 258,
   "id": "d234cb4b",
   "metadata": {
    "scrolled": false
   },
   "outputs": [
    {
     "data": {
      "image/png": "[encoded data removed]",
      "text/plain": [
       "<Figure size 432x288 with 1 Axes>"
      ]
     },
     "metadata": {},
     "output_type": "display_data"
    }
   ],
   "source": [
    "VendasPerCategory = vendas.groupby('Category')['Sales'].sum().sort_values(ascending=False).plot.bar().set_title('Valor de vendas por categoria')"
   ]
  },
  {
   "cell_type": "markdown",
   "id": "e27bbcd1",
   "metadata": {},
   "source": [
    "## Quantidade de vendas por categoria"
   ]
  },
  {
   "cell_type": "code",
   "execution_count": 259,
   "id": "967a0204",
   "metadata": {
    "scrolled": true
   },
   "outputs": [
    {
     "data": {
      "text/plain": [
       "Text(0.5, 1.0, 'Quantidade de Vendas por categoria')"
      ]
     },
     "execution_count": 259,
     "metadata": {},
     "output_type": "execute_result"
    },
    {
     "data": {
      "image/png": "[encoded data removed]",
      "text/plain": [
       "<Figure size 432x288 with 1 Axes>"
      ]
     },
     "metadata": {},
     "output_type": "display_data"
    }
   ],
   "source": [
    "sns.barplot(x=Categoria,y=cont).set_title('Quantidade de Vendas por categoria')"
   ]
  },
  {
   "cell_type": "markdown",
   "id": "351cc9af",
   "metadata": {},
   "source": [
    "# Oportunidades na área de Tecnologia"
   ]
  },
  {
   "cell_type": "markdown",
   "id": "3c6df350",
   "metadata": {},
   "source": [
    "### Maiores valores de venda porém em pouca quantidade"
   ]
  },
  {
   "cell_type": "code",
   "execution_count": 266,
   "id": "2400fc40",
   "metadata": {
    "scrolled": true
   },
   "outputs": [
    {
     "data": {
      "text/plain": [
       "array([<AxesSubplot:ylabel='Region'>], dtype=object)"
      ]
     },
     "execution_count": 266,
     "metadata": {},
     "output_type": "execute_result"
    },
    {
     "data": {
      "image/png": "[encoded data removed]",
      "text/plain": [
       "<Figure size 360x360 with 1 Axes>"
      ]
     },
     "metadata": {},
     "output_type": "display_data"
    }
   ],
   "source": [
    "df = vendas[vendas['Category']=='Technology']\n",
    "df.groupby(u'Region')['Region'].value_counts().sort_values().plot.pie(subplots=True,figsize=(5, 5))"
   ]
  },
  {
   "cell_type": "code",
   "execution_count": 267,
   "id": "b373d20c",
   "metadata": {},
   "outputs": [
    {
     "data": {
      "text/plain": [
       "<AxesSubplot:ylabel='Region,SubCategory'>"
      ]
     },
     "execution_count": 267,
     "metadata": {},
     "output_type": "execute_result"
    },
    {
     "data": {
      "image/png": "[encoded data removed]",
      "text/plain": [
       "<Figure size 432x288 with 1 Axes>"
      ]
     },
     "metadata": {},
     "output_type": "display_data"
    }
   ],
   "source": [
    "df = vendas[vendas['Category']=='Technology']\n",
    "df.groupby(u'Region')['SubCategory'].value_counts().sort_values().plot.barh()"
   ]
  },
  {
   "cell_type": "markdown",
   "id": "fdc5c46c",
   "metadata": {},
   "source": [
    "## Produtos com maior saida em tecnologia"
   ]
  },
  {
   "cell_type": "code",
   "execution_count": 271,
   "id": "ae164c12",
   "metadata": {
    "scrolled": true
   },
   "outputs": [
    {
     "data": {
      "text/plain": [
       "<AxesSubplot:ylabel='SubCategory'>"
      ]
     },
     "execution_count": 271,
     "metadata": {},
     "output_type": "execute_result"
    },
    {
     "data": {
      "image/png": "[encoded data removed]",
      "text/plain": [
       "<Figure size 432x288 with 1 Axes>"
      ]
     },
     "metadata": {},
     "output_type": "display_data"
    }
   ],
   "source": [
    "df = vendas[vendas['Category']=='Technology']\n",
    "df.groupby(u'SubCategory')['SubCategory'].value_counts().sort_values().plot.pie()"
   ]
  },
  {
   "cell_type": "markdown",
   "id": "d18bcf9d",
   "metadata": {},
   "source": [
    "## Vendas por Região"
   ]
  },
  {
   "cell_type": "code",
   "execution_count": 272,
   "id": "27879c20",
   "metadata": {},
   "outputs": [
    {
     "data": {
      "text/plain": [
       "<AxesSubplot:ylabel='Category'>"
      ]
     },
     "execution_count": 272,
     "metadata": {},
     "output_type": "execute_result"
    },
    {
     "data": {
      "image/png": "[encoded data removed]",
      "text/plain": [
       "<Figure size 432x288 with 1 Axes>"
      ]
     },
     "metadata": {},
     "output_type": "display_data"
    }
   ],
   "source": [
    "west = vendas[vendas['Region']=='West']\n",
    "Categoria = west[u'Category'].unique()\n",
    "cont = west[u'Category'].value_counts()\n",
    "sns.barplot(x=Categoria,y=cont)"
   ]
  },
  {
   "cell_type": "code",
   "execution_count": 273,
   "id": "451748f0",
   "metadata": {},
   "outputs": [
    {
     "data": {
      "text/plain": [
       "<AxesSubplot:ylabel='Category'>"
      ]
     },
     "execution_count": 273,
     "metadata": {},
     "output_type": "execute_result"
    },
    {
     "data": {
      "image/png": "[encoded data removed]",
      "text/plain": [
       "<Figure size 432x288 with 1 Axes>"
      ]
     },
     "metadata": {},
     "output_type": "display_data"
    }
   ],
   "source": [
    "East = vendas[vendas['Region']=='East']\n",
    "Categoria = East[u'Category'].unique()\n",
    "cont = East[u'Category'].value_counts()\n",
    "sns.barplot(x=Categoria,y=cont)"
   ]
  },
  {
   "cell_type": "code",
   "execution_count": 274,
   "id": "707be112",
   "metadata": {},
   "outputs": [
    {
     "data": {
      "text/plain": [
       "<AxesSubplot:ylabel='Category'>"
      ]
     },
     "execution_count": 274,
     "metadata": {},
     "output_type": "execute_result"
    },
    {
     "data": {
      "image/png": "[encoded data removed]",
      "text/plain": [
       "<Figure size 432x288 with 1 Axes>"
      ]
     },
     "metadata": {},
     "output_type": "display_data"
    }
   ],
   "source": [
    "Central = vendas[vendas['Region']=='Central']\n",
    "Categoria = Central[u'Category'].unique()\n",
    "cont = Central[u'Category'].value_counts()\n",
    "sns.barplot(x=Categoria,y=cont)"
   ]
  },
  {
   "cell_type": "code",
   "execution_count": 275,
   "id": "6842cf83",
   "metadata": {},
   "outputs": [
    {
     "data": {
      "text/plain": [
       "<AxesSubplot:ylabel='Category'>"
      ]
     },
     "execution_count": 275,
     "metadata": {},
     "output_type": "execute_result"
    },
    {
     "data": {
      "image/png": "[encoded data removed]",
      "text/plain": [
       "<Figure size 432x288 with 1 Axes>"
      ]
     },
     "metadata": {},
     "output_type": "display_data"
    }
   ],
   "source": [
    "South = vendas[vendas['Region']=='South']\n",
    "Categoria = South[u'Category'].unique()\n",
    "cont = South[u'Category'].value_counts()\n",
    "sns.barplot(x=Categoria,y=cont)"
   ]
  },
  {
   "cell_type": "markdown",
   "id": "8220b59e",
   "metadata": {},
   "source": [
    "## Correlações"
   ]
  },
  {
   "cell_type": "code",
   "execution_count": 276,
   "id": "a601c08e",
   "metadata": {},
   "outputs": [
    {
     "data": {
      "text/html": [
       "<style type=\"text/css\">\n",
       "#T_f4fdc_row0_col0, #T_f4fdc_row1_col1, #T_f4fdc_row2_col2 {\n",
       "  background-color: #b40426;\n",
       "  color: #f1f1f1;\n",
       "}\n",
       "#T_f4fdc_row0_col1 {\n",
       "  background-color: #7da0f9;\n",
       "  color: #f1f1f1;\n",
       "}\n",
       "#T_f4fdc_row0_col2 {\n",
       "  background-color: #3e51c5;\n",
       "  color: #f1f1f1;\n",
       "}\n",
       "#T_f4fdc_row1_col0 {\n",
       "  background-color: #799cf8;\n",
       "  color: #f1f1f1;\n",
       "}\n",
       "#T_f4fdc_row1_col2, #T_f4fdc_row2_col0, #T_f4fdc_row2_col1 {\n",
       "  background-color: #3b4cc0;\n",
       "  color: #f1f1f1;\n",
       "}\n",
       "</style>\n",
       "<table id=\"T_f4fdc_\">\n",
       "  <thead>\n",
       "    <tr>\n",
       "      <th class=\"blank level0\" >&nbsp;</th>\n",
       "      <th class=\"col_heading level0 col0\" >Sales</th>\n",
       "      <th class=\"col_heading level0 col1\" >Quantity</th>\n",
       "      <th class=\"col_heading level0 col2\" >SalesPersonId</th>\n",
       "    </tr>\n",
       "  </thead>\n",
       "  <tbody>\n",
       "    <tr>\n",
       "      <th id=\"T_f4fdc_level0_row0\" class=\"row_heading level0 row0\" >Sales</th>\n",
       "      <td id=\"T_f4fdc_row0_col0\" class=\"data row0 col0\" >1.000000</td>\n",
       "      <td id=\"T_f4fdc_row0_col1\" class=\"data row0 col1\" >0.200795</td>\n",
       "      <td id=\"T_f4fdc_row0_col2\" class=\"data row0 col2\" >0.007489</td>\n",
       "    </tr>\n",
       "    <tr>\n",
       "      <th id=\"T_f4fdc_level0_row1\" class=\"row_heading level0 row1\" >Quantity</th>\n",
       "      <td id=\"T_f4fdc_row1_col0\" class=\"data row1 col0\" >0.200795</td>\n",
       "      <td id=\"T_f4fdc_row1_col1\" class=\"data row1 col1\" >1.000000</td>\n",
       "      <td id=\"T_f4fdc_row1_col2\" class=\"data row1 col2\" >-0.005419</td>\n",
       "    </tr>\n",
       "    <tr>\n",
       "      <th id=\"T_f4fdc_level0_row2\" class=\"row_heading level0 row2\" >SalesPersonId</th>\n",
       "      <td id=\"T_f4fdc_row2_col0\" class=\"data row2 col0\" >0.007489</td>\n",
       "      <td id=\"T_f4fdc_row2_col1\" class=\"data row2 col1\" >-0.005419</td>\n",
       "      <td id=\"T_f4fdc_row2_col2\" class=\"data row2 col2\" >1.000000</td>\n",
       "    </tr>\n",
       "  </tbody>\n",
       "</table>\n"
      ],
      "text/plain": [
       "<pandas.io.formats.style.Styler at 0x2311ae31d00>"
      ]
     },
     "execution_count": 276,
     "metadata": {},
     "output_type": "execute_result"
    }
   ],
   "source": [
    "correlation = vendas.drop('RowID',axis=1).corr()\n",
    "correlation.style.background_gradient(cmap= 'coolwarm')"
   ]
  },
  {
   "cell_type": "code",
   "execution_count": 252,
   "id": "a0441973",
   "metadata": {
    "scrolled": true
   },
   "outputs": [
    {
     "data": {
      "text/plain": [
       "<AxesSubplot:ylabel='Density'>"
      ]
     },
     "execution_count": 252,
     "metadata": {},
     "output_type": "execute_result"
    },
    {
     "data": {
      "image/png": "[encoded data removed]",
      "text/plain": [
       "<Figure size 432x216 with 1 Axes>"
      ]
     },
     "metadata": {},
     "output_type": "display_data"
    }
   ],
   "source": [
    "vendas.plot.density(y='Quantity',xlim=[0,20],figsize=[6,3])"
   ]
  },
  {
   "cell_type": "markdown",
   "id": "d76bd6b0",
   "metadata": {},
   "source": []
  }
 ],
 "metadata": {
  "kernelspec": {
   "display_name": "Python 3 (ipykernel)",
   "language": "python",
   "name": "python3"
  },
  "language_info": {
   "codemirror_mode": {
    "name": "ipython",
    "version": 3
   },
   "file_extension": ".py",
   "mimetype": "text/x-python",
   "name": "python",
   "nbconvert_exporter": "python",
   "pygments_lexer": "ipython3",
   "version": "3.9.7"
  }
 },
 "nbformat": 4,
 "nbformat_minor": 5
}
